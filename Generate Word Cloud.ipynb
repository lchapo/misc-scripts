{
 "cells": [
  {
   "cell_type": "markdown",
   "metadata": {},
   "source": [
    "# Generates word cloud from text csv file"
   ]
  },
  {
   "cell_type": "code",
   "execution_count": null,
   "metadata": {
    "collapsed": false
   },
   "outputs": [],
   "source": [
    "# to run file, save data.csv file in this folder as an export of all text comments\n",
    "\n",
    "import re\n",
    "import pandas as pd\n",
    "\n",
    "from collections import Counter\n",
    "from string import punctuation\n",
    "\n",
    "counter = Counter()\n",
    "with open('data.csv') as f:\n",
    "  for line in f:\n",
    "    counter.update(word.strip(punctuation) for word in line.split())\n",
    "\n",
    "result = dict(counter)\n"
   ]
  },
  {
   "cell_type": "code",
   "execution_count": null,
   "metadata": {
    "collapsed": false
   },
   "outputs": [],
   "source": [
    "df = pd.DataFrame.from_dict(result,orient='index')\n",
    "df.columns=['word_count']"
   ]
  },
  {
   "cell_type": "code",
   "execution_count": null,
   "metadata": {
    "collapsed": false
   },
   "outputs": [],
   "source": [
    "# generate list of common words - from library + custom list\n",
    "from nltk.corpus import stopwords\n",
    "\n",
    "add_words = ['I',\"I'm\",'It',\"I'd\",\"yet\",'The','If','That']\n",
    "s = stopwords.words('english') + add_words\n"
   ]
  },
  {
   "cell_type": "code",
   "execution_count": null,
   "metadata": {
    "collapsed": false
   },
   "outputs": [],
   "source": [
    "# take out common words\n",
    "df = df[~df.index.isin(s)]"
   ]
  },
  {
   "cell_type": "code",
   "execution_count": null,
   "metadata": {
    "collapsed": true
   },
   "outputs": [],
   "source": [
    "# save as csv\n",
    "df.to_csv('word_counts.csv')"
   ]
  },
  {
   "cell_type": "code",
   "execution_count": null,
   "metadata": {
    "collapsed": true
   },
   "outputs": [],
   "source": []
  }
 ],
 "metadata": {
  "kernelspec": {
   "display_name": "Python 2",
   "language": "python",
   "name": "python2"
  },
  "language_info": {
   "codemirror_mode": {
    "name": "ipython",
    "version": 2
   },
   "file_extension": ".py",
   "mimetype": "text/x-python",
   "name": "python",
   "nbconvert_exporter": "python",
   "pygments_lexer": "ipython2",
   "version": "2.7.11"
  }
 },
 "nbformat": 4,
 "nbformat_minor": 0
}
